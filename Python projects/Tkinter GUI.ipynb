{
 "cells": [
  {
   "cell_type": "markdown",
   "metadata": {},
   "source": [
    "# Tkinter "
   ]
  },
  {
   "cell_type": "code",
   "execution_count": 1,
   "metadata": {},
   "outputs": [],
   "source": [
    "from tkinter import *"
   ]
  },
  {
   "cell_type": "code",
   "execution_count": 2,
   "metadata": {},
   "outputs": [],
   "source": [
    "window=Tk()  #Blank window\n",
    "window.mainloop()   #wigets are added here and also used to display the window\n"
   ]
  },
  {
   "cell_type": "markdown",
   "metadata": {},
   "source": [
    "## Basic attributes"
   ]
  },
  {
   "cell_type": "markdown",
   "metadata": {},
   "source": [
    "### Title and background\n",
    "- for title window.title(\"string\")\n",
    "- for background window.configure(background=color)\n",
    "- Resize window.geometry('size') size in px\n",
    "- Resizing behavior : To prevent the window from resizing, we can use the resizable () method. resizable() method takes two parameters (width, height). If you want to disable width and height, then pass True/False, respectively.\n",
    "   window.resizable(False,False)\n",
    "   \n",
    "- change the icon of title bar  window.iconbitmap('name of image')\n",
    "\n"
   ]
  },
  {
   "cell_type": "code",
   "execution_count": 6,
   "metadata": {},
   "outputs": [],
   "source": [
    "window=Tk()  #Blank window\n",
    "window.title(\"My page\")\n",
    "window.configure(background='yellow')\n",
    "window.geometry('300x300')\n",
    "window.resizable(False,False)\n",
    "window.mainloop()   #wigets are added here and also used to display the window\n"
   ]
  },
  {
   "cell_type": "markdown",
   "metadata": {},
   "source": [
    "## Widgets\n",
    "\n",
    "- Tkinter provides various controls, such as labels, text boxes, radio buttons, submit buttons, etc., used in a GUI application. These controls are commonly called widgets."
   ]
  },
  {
   "cell_type": "markdown",
   "metadata": {},
   "source": [
    "### Labels\n",
    "- used to display text or image\n",
    "  syntax- l=Label(master,option,...)\n",
    "    - master :This represents the window object; means in which window you want to add.\n",
    "    - options: text,fg,bg,font,image,etc.\n",
    "    \n",
    "    - pack() method is used to place the widget in the window\n",
    "    \n",
    "    - PhotoImage() - Create an image with NAME and display pictures in PGM, PPM, GIF, PNG format. If you want to use another format's image, then use the pillow package.\n",
    "        \n",
    "     -link   https://tkdocs.com/shipman/label.html"
   ]
  },
  {
   "cell_type": "code",
   "execution_count": 9,
   "metadata": {},
   "outputs": [],
   "source": [
    "window= Tk()\n",
    "Label(window,text=\"Hello!!\",fg='Black',bg=\"red\",font=\"Halventica 16 bold\").pack()\n",
    "window.configure(background='yellow')\n",
    "img=PhotoImage(file=\"image.png\")\n",
    "Label(window,image=img).pack()\n",
    "window.mainloop()"
   ]
  },
  {
   "cell_type": "markdown",
   "metadata": {},
   "source": [
    "### Entry widget \n",
    "- Entry widgets are the basic widgets of Tkinter used to get input, i.e., text strings, from an application user. This widget allows the user to enter a single line of text.\n",
    "- Syntax - e = Entry (master, option, ... )\n",
    "    - master – This represents the window\n",
    "    - option – Entry widgets have the following option\n",
    "        - bg - To set the Background color of textbox\n",
    "        - font - To set font style used for the text.\n",
    "        - fg - The color used to render the text.\n",
    "        - show - Normally, the characters that the user                       types appear in the entry. To make                          password entry that echoes each                            character like an asterisk, set show = \"*\".\n",
    "        - textvariable - To be able to retrieve the current            text from your entry widget.\n",
    "        - Reference for more options - https://tkdocs.com/shipman/entry.html"
   ]
  },
  {
   "cell_type": "code",
   "execution_count": 18,
   "metadata": {},
   "outputs": [],
   "source": [
    "window=Tk()\n",
    "Label(window,text=\"Enter your name \").pack()\n",
    "e=Entry(window, show='*',fg='red').pack()\n",
    "window.mainloop()\n"
   ]
  },
  {
   "cell_type": "markdown",
   "metadata": {},
   "source": [
    "### Button Widgets\n",
    "- The Button widget is used to add buttons in a Python application.\n",
    "- Syntax - b = Button (master, option = value, ... )\n",
    "    - master – This represents the window\n",
    "    - option – Buttons widgets have the following option\n",
    "        - text – To set the text of Button\n",
    "        - bg - To set the Background color\n",
    "        - fg – To set Text-color of Button\n",
    "        - height - Height of the button in text lines\n",
    "        - image - Image to be displayed on the button\n",
    "        - justify - To show multiple text lines: LEFT to left-justify each line; CENTER to center\n",
    "        them; or RIGHT to right-justify"
   ]
  },
  {
   "cell_type": "code",
   "execution_count": 25,
   "metadata": {},
   "outputs": [],
   "source": [
    "window=Tk()\n",
    "b=Button(window,text=\"Save\", bg='Green',height='2',width='5').pack()\n",
    "window.mainloop()"
   ]
  },
  {
   "cell_type": "markdown",
   "metadata": {},
   "source": [
    "### Checkbutton Widgets \n",
    "- The Checkbutton widget is used to display several options to a user as toggle buttons.\n",
    "        Syntax – c = Checkbutton(master, option, ...)\n",
    "                master – This represents the window\n",
    "                option – Checkbutton widgets have the following option\n",
    "                     bg - To set Background color\n",
    "                     fg – To set the Text color of Button\n",
    "                     selectcolor – To set checkbutton color.\n",
    "                     text - The label is displayed next to the checkbutton.\n",
    "                     offvalue - Normally, a checkbutton's associated control variable will be set to 0 when\n",
    "                    it is cleared (off). You can supply an alternate value for the off-state by setting off value\n",
    "                    to that value.\n",
    "                     onvalue - Normally, a checkbutton's associated control variable will be set to 1 when\n",
    "                    set (on). You can supply an alternate value for on the state by setting on value to that\n",
    "                    value."
   ]
  },
  {
   "cell_type": "code",
   "execution_count": 28,
   "metadata": {},
   "outputs": [],
   "source": [
    "window=Tk()\n",
    "Checkbutton(window,text=\"Geetanjali\").pack()\n",
    "Checkbutton(window,text=\"divya\").pack()\n",
    "Checkbutton(window,text=\"Shivani\").pack()\n",
    "\n",
    "l=Label(window,text=\"RadioButtons\").pack()\n",
    "Radiobutton(window,text=\"M\",value=\"Male\").pack()\n",
    "Radiobutton(window,text=\"F\",value=\"Female\").pack()\n",
    "window.mainloop()"
   ]
  },
  {
   "cell_type": "markdown",
   "metadata": {},
   "source": [
    "### Frame Widgets\n",
    "- A frame is just a container for other widgets. It is used for grouping and organizing other widgets in a somehow friendly way.\n",
    "    - Syntax f = Frame ( master, option, ... )\n",
    "        - master – This represents the window\n",
    "        - option – frame widgets have the following option\n",
    "            - bd or border-width – It is used for border     width\n",
    "            - bg or background – Set background-color\n",
    "            - height – To set the height of the frame\n",
    "            - width – Set width if the frame"
   ]
  },
  {
   "cell_type": "code",
   "execution_count": 36,
   "metadata": {},
   "outputs": [],
   "source": [
    "window=Tk()\n",
    "left_frame=Frame(window,bg='red',bd='10')\n",
    "left_frame.pack(side=TOP)\n",
    "Radiobutton(left_frame,text=\"M\",value=\"Male\").pack()\n",
    "Radiobutton(left_frame,text=\"F\",value=\"Female\").pack()\n",
    "window.mainloop()\n"
   ]
  },
  {
   "cell_type": "markdown",
   "metadata": {},
   "source": [
    "### MessageBox Widgets\n",
    "- MessageBox() module is used to display message boxes in your applications.\n",
    "    - Syntax - messagebox.FunctionName(title, message options])\n",
    "                - FunctionName − Name of the appropriate message box function\n",
    "                   different types of function used for the message box\n",
    "                - title − Text to be displayed in the title bar of a message box.\n",
    "                - message − This is the text to be displayed as a message."
   ]
  },
  {
   "cell_type": "code",
   "execution_count": null,
   "metadata": {},
   "outputs": [],
   "source": []
  },
  {
   "cell_type": "code",
   "execution_count": null,
   "metadata": {},
   "outputs": [],
   "source": []
  }
 ],
 "metadata": {
  "kernelspec": {
   "display_name": "Python 3",
   "language": "python",
   "name": "python3"
  },
  "language_info": {
   "codemirror_mode": {
    "name": "ipython",
    "version": 3
   },
   "file_extension": ".py",
   "mimetype": "text/x-python",
   "name": "python",
   "nbconvert_exporter": "python",
   "pygments_lexer": "ipython3",
   "version": "3.8.5"
  }
 },
 "nbformat": 4,
 "nbformat_minor": 4
}
