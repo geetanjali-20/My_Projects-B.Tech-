{
 "cells": [
  {
   "cell_type": "code",
   "execution_count": 2,
   "metadata": {},
   "outputs": [
    {
     "name": "stdout",
     "output_type": "stream",
     "text": [
      "pygame 2.0.1 (SDL 2.0.14, Python 3.8.5)\n",
      "Hello from the pygame community. https://www.pygame.org/contribute.html\n"
     ]
    }
   ],
   "source": [
    "import pygame, sys\n",
    "import os\n",
    "import random"
   ]
  },
  {
   "cell_type": "code",
   "execution_count": 3,
   "metadata": {},
   "outputs": [],
   "source": [
    "player_lives = 3\n",
    "score = 0\n",
    "fruits = ['melon', 'orange', 'pomegranate', 'guava', 'bomb']\n",
    "WIDTH = 800\n",
    "HEIGHT = 500\n",
    "FPS = 12\n",
    "\n",
    "pygame.init()\n",
    "pygame.display.set_caption('Fruit-Ninja Game -- DataFlair')\n",
    "gameDisplay = pygame.display.set_mode((WIDTH, HEIGHT))\n",
    "clock = pygame.time.Clock()\n",
    "\n",
    "WHITE = (255,255,255)\n",
    "BLACK = (0,0,0)\n",
    "RED = (255,0,0)\n",
    "GREEN = (0,255,0)\n",
    "BLUE = (0,0,255)\n",
    "\n",
    "gameDisplay.fill((BLACK))\n",
    "background = pygame.image.load('back.jpg')\n",
    "font = pygame.font.Font(os.path.join(os.getcwd(), 'comic.ttf'), 32)\n",
    "score_text = font.render('Score : ' + str(score), True, (255, 255, 255))\n",
    "lives_icon = pygame.image.load('images/white_lives.png')"
   ]
  },
  {
   "cell_type": "code",
   "execution_count": 4,
   "metadata": {},
   "outputs": [],
   "source": [
    "def generate_random_fruits(fruit):\n",
    "    fruit_path = \"images/\" + fruit + \".png\"\n",
    "    data[fruit] = {\n",
    "        'img': pygame.image.load(fruit_path),\n",
    "        'x' : random.randint(100,500),               \n",
    "        'y' : 800,\n",
    "        'speed_x': random.randint(-30,40),    \n",
    "        'speed_y': random.randint(-100, -80),    \n",
    "        'throw': False,                       \n",
    "        't': 0,                               \n",
    "        'hit': False,\n",
    "    }\n",
    "\n",
    "    if random.random() >= 0.75:     \n",
    "        data[fruit]['throw'] = True\n",
    "    else:\n",
    "        data[fruit]['throw'] = False\n",
    "\n",
    "data = {}\n",
    "for fruit in fruits:\n",
    "    generate_random_fruits(fruit)"
   ]
  },
  {
   "cell_type": "code",
   "execution_count": 5,
   "metadata": {},
   "outputs": [],
   "source": [
    "font_name = pygame.font.match_font('comic.ttf')\n",
    "\n",
    "def draw_text(display, text, size, x, y):\n",
    "    font = pygame.font.Font(font_name, size)\n",
    "    text_surface = font.render(text, True, WHITE)\n",
    "    text_rect = text_surface.get_rect()\n",
    "    text_rect.midtop = (x, y)\n",
    "    gameDisplay.blit(text_surface, text_rect)"
   ]
  },
  {
   "cell_type": "code",
   "execution_count": 6,
   "metadata": {},
   "outputs": [],
   "source": [
    "def draw_lives(display, x, y, lives, image) :\n",
    "    for i in range(lives) :\n",
    "        img = pygame.image.load(image)\n",
    "        img_rect = img.get_rect()      \n",
    "        img_rect.x = int(x + 35 * i)   \n",
    "        img_rect.y = y                 \n",
    "        display.blit(img, img_rect)\n",
    "\n",
    "def hide_cross_lives(x, y):\n",
    "    gameDisplay.blit(pygame.image.load(\"images/red_lives.png\"), (x, y))"
   ]
  },
  {
   "cell_type": "code",
   "execution_count": 7,
   "metadata": {},
   "outputs": [],
   "source": [
    "def show_gameover_screen():\n",
    "    gameDisplay.blit(background, (0,0))\n",
    "    draw_text(gameDisplay, \"FRUIT NINJA!\", 64, WIDTH / 2, HEIGHT / 4)\n",
    "    if not game_over :\n",
    "        draw_text(gameDisplay,\"Score : \" + str(score), 40, WIDTH / 2, 250)\n",
    "\n",
    "\n",
    "    draw_text(gameDisplay, \"Press a key to begin!\", 24, WIDTH / 2, HEIGHT * 3 / 4)\n",
    "    pygame.display.flip()\n",
    "    waiting = True\n",
    "    while waiting:\n",
    "        clock.tick(FPS)\n",
    "        for event in pygame.event.get():\n",
    "            if event.type == pygame.QUIT:\n",
    "                pygame.quit()\n",
    "            if event.type == pygame.KEYUP:\n",
    "                waiting = False"
   ]
  },
  {
   "cell_type": "code",
   "execution_count": 8,
   "metadata": {},
   "outputs": [
    {
     "ename": "error",
     "evalue": "video system not initialized",
     "output_type": "error",
     "traceback": [
      "\u001b[1;31m---------------------------------------------------------------------------\u001b[0m",
      "\u001b[1;31merror\u001b[0m                                     Traceback (most recent call last)",
      "\u001b[1;32m<ipython-input-8-1594d9f7da02>\u001b[0m in \u001b[0;36m<module>\u001b[1;34m\u001b[0m\n\u001b[0;32m     47\u001b[0m \u001b[1;33m\u001b[0m\u001b[0m\n\u001b[0;32m     48\u001b[0m                     \u001b[1;32mif\u001b[0m \u001b[0mplayer_lives\u001b[0m \u001b[1;33m<\u001b[0m \u001b[1;36m0\u001b[0m \u001b[1;33m:\u001b[0m\u001b[1;33m\u001b[0m\u001b[1;33m\u001b[0m\u001b[0m\n\u001b[1;32m---> 49\u001b[1;33m                         \u001b[0mshow_gameover_screen\u001b[0m\u001b[1;33m(\u001b[0m\u001b[1;33m)\u001b[0m\u001b[1;33m\u001b[0m\u001b[1;33m\u001b[0m\u001b[0m\n\u001b[0m\u001b[0;32m     50\u001b[0m                         \u001b[0mgame_over\u001b[0m \u001b[1;33m=\u001b[0m \u001b[1;32mTrue\u001b[0m\u001b[1;33m\u001b[0m\u001b[1;33m\u001b[0m\u001b[0m\n\u001b[0;32m     51\u001b[0m \u001b[1;33m\u001b[0m\u001b[0m\n",
      "\u001b[1;32m<ipython-input-7-77ee35885b0f>\u001b[0m in \u001b[0;36mshow_gameover_screen\u001b[1;34m()\u001b[0m\n\u001b[0;32m     11\u001b[0m     \u001b[1;32mwhile\u001b[0m \u001b[0mwaiting\u001b[0m\u001b[1;33m:\u001b[0m\u001b[1;33m\u001b[0m\u001b[1;33m\u001b[0m\u001b[0m\n\u001b[0;32m     12\u001b[0m         \u001b[0mclock\u001b[0m\u001b[1;33m.\u001b[0m\u001b[0mtick\u001b[0m\u001b[1;33m(\u001b[0m\u001b[0mFPS\u001b[0m\u001b[1;33m)\u001b[0m\u001b[1;33m\u001b[0m\u001b[1;33m\u001b[0m\u001b[0m\n\u001b[1;32m---> 13\u001b[1;33m         \u001b[1;32mfor\u001b[0m \u001b[0mevent\u001b[0m \u001b[1;32min\u001b[0m \u001b[0mpygame\u001b[0m\u001b[1;33m.\u001b[0m\u001b[0mevent\u001b[0m\u001b[1;33m.\u001b[0m\u001b[0mget\u001b[0m\u001b[1;33m(\u001b[0m\u001b[1;33m)\u001b[0m\u001b[1;33m:\u001b[0m\u001b[1;33m\u001b[0m\u001b[1;33m\u001b[0m\u001b[0m\n\u001b[0m\u001b[0;32m     14\u001b[0m             \u001b[1;32mif\u001b[0m \u001b[0mevent\u001b[0m\u001b[1;33m.\u001b[0m\u001b[0mtype\u001b[0m \u001b[1;33m==\u001b[0m \u001b[0mpygame\u001b[0m\u001b[1;33m.\u001b[0m\u001b[0mQUIT\u001b[0m\u001b[1;33m:\u001b[0m\u001b[1;33m\u001b[0m\u001b[1;33m\u001b[0m\u001b[0m\n\u001b[0;32m     15\u001b[0m                 \u001b[0mpygame\u001b[0m\u001b[1;33m.\u001b[0m\u001b[0mquit\u001b[0m\u001b[1;33m(\u001b[0m\u001b[1;33m)\u001b[0m\u001b[1;33m\u001b[0m\u001b[1;33m\u001b[0m\u001b[0m\n",
      "\u001b[1;31merror\u001b[0m: video system not initialized"
     ]
    }
   ],
   "source": [
    "first_round = True\n",
    "game_over = True        \n",
    "game_running = True    \n",
    "while game_running :\n",
    "    if game_over :\n",
    "        if first_round :\n",
    "            show_gameover_screen()\n",
    "            first_round = False\n",
    "        game_over = False\n",
    "        player_lives = 3\n",
    "        draw_lives(gameDisplay, 690, 5, player_lives, 'images/red_lives.png')\n",
    "        score = 0\n",
    "\n",
    "    for event in pygame.event.get():\n",
    "\n",
    "        if event.type == pygame.QUIT:\n",
    "            game_running = False\n",
    "\n",
    "    gameDisplay.blit(background, (0, 0))\n",
    "    gameDisplay.blit(score_text, (0, 0))\n",
    "    draw_lives(gameDisplay, 690, 5, player_lives, 'images/red_lives.png')\n",
    "\n",
    "    for key, value in data.items():\n",
    "        if value['throw']:\n",
    "            value['x'] += value['speed_x']\n",
    "            value['y'] += value['speed_y']\n",
    "            value['speed_y'] += (1 * value['t'])\n",
    "            value['t'] += 1\n",
    "\n",
    "            if value['y'] <= 800:\n",
    "                gameDisplay.blit(value['img'], (value['x'], value['y']))\n",
    "            else:\n",
    "                generate_random_fruits(key)\n",
    "\n",
    "            current_position = pygame.mouse.get_pos()\n",
    "\n",
    "            if not value['hit'] and current_position[0] > value['x'] and current_position[0] < value['x']+60 \\\n",
    "                    and current_position[1] > value['y'] and current_position[1] < value['y']+60:\n",
    "                if key == 'bomb':\n",
    "                    player_lives -= 1\n",
    "                    if player_lives == 0:\n",
    "                        hide_cross_lives(690, 15)\n",
    "                    elif player_lives == 1 :\n",
    "                        hide_cross_lives(725, 15)\n",
    "                    elif player_lives == 2 :\n",
    "                        hide_cross_lives(760, 15)\n",
    "                  \n",
    "                    if player_lives < 0 :\n",
    "                        show_gameover_screen()\n",
    "                        game_over = True\n",
    "\n",
    "                    half_fruit_path = \"images/explosion.png\"\n",
    "                else:\n",
    "                    half_fruit_path = \"images/\" + \"half_\" + key + \".png\"\n",
    "\n",
    "                value['img'] = pygame.image.load(half_fruit_path)\n",
    "                value['speed_x'] += 10\n",
    "                if key != 'bomb' :\n",
    "                    score += 1\n",
    "                score_text = font.render('Score : ' + str(score), True, (255, 255, 255))\n",
    "                value['hit'] = True\n",
    "        else:\n",
    "            generate_random_fruits(key)\n",
    "\n",
    "    pygame.display.update()\n",
    "    clock.tick(FPS)\n",
    "\n",
    "pygame.quit()"
   ]
  },
  {
   "cell_type": "code",
   "execution_count": null,
   "metadata": {},
   "outputs": [],
   "source": []
  },
  {
   "cell_type": "code",
   "execution_count": null,
   "metadata": {},
   "outputs": [],
   "source": []
  }
 ],
 "metadata": {
  "kernelspec": {
   "display_name": "Python 3",
   "language": "python",
   "name": "python3"
  },
  "language_info": {
   "codemirror_mode": {
    "name": "ipython",
    "version": 3
   },
   "file_extension": ".py",
   "mimetype": "text/x-python",
   "name": "python",
   "nbconvert_exporter": "python",
   "pygments_lexer": "ipython3",
   "version": "3.8.5"
  }
 },
 "nbformat": 4,
 "nbformat_minor": 4
}
